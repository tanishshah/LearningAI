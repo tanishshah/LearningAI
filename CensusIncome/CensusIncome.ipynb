{
 "cells": [
  {
   "cell_type": "markdown",
   "id": "51eacf29",
   "metadata": {},
   "source": [
    "# Census Income Data Set"
   ]
  },
  {
   "cell_type": "markdown",
   "id": "98072606",
   "metadata": {},
   "source": [
    "## Import and explore the data"
   ]
  },
  {
   "cell_type": "code",
   "execution_count": null,
   "id": "3fefb7ed",
   "metadata": {},
   "outputs": [],
   "source": [
    "import numpy as np\n",
    "import pandas as pd\n",
    "import matplotlib.pyplot as plt\n",
    "import seaborn as sns"
   ]
  },
  {
   "cell_type": "code",
   "execution_count": null,
   "id": "0ec93d48",
   "metadata": {
    "scrolled": true
   },
   "outputs": [],
   "source": [
    "df = pd.read_csv(\"other.csv\",na_values='?')\n",
    "df.dropna(how='any',inplace=True)\n",
    "df.head()"
   ]
  },
  {
   "cell_type": "code",
   "execution_count": null,
   "id": "7c38a0dd",
   "metadata": {
    "scrolled": false
   },
   "outputs": [],
   "source": [
    "from sklearn.preprocessing import LabelEncoder\n",
    "labelencoder = LabelEncoder()\n",
    "df[\"Output\"] = labelencoder.fit_transform(df['Output'])\n",
    "print(df.head())\n",
    "print(df.info())"
   ]
  },
  {
   "cell_type": "markdown",
   "id": "25801227",
   "metadata": {},
   "source": [
    "## Visualizing Data"
   ]
  },
  {
   "cell_type": "code",
   "execution_count": null,
   "id": "085f5428",
   "metadata": {},
   "outputs": [],
   "source": [
    "f = plt.figure(figsize=(12, 10))\n",
    "corr = df.corr()\n",
    "plt.matshow(corr,fignum=f.number)\n",
    "plt.xticks(range(len(corr.columns)),corr.columns, fontsize=10, rotation=45)\n",
    "plt.yticks(range(len(corr.columns)),corr.columns, fontsize=10)\n",
    "cb = plt.colorbar()\n",
    "cb.ax.tick_params(labelsize=10)\n",
    "plt.title('Correlation Matrix', fontsize=16)\n"
   ]
  },
  {
   "cell_type": "code",
   "execution_count": null,
   "id": "54cca265",
   "metadata": {
    "scrolled": false
   },
   "outputs": [],
   "source": [
    "figure,axis = plt.subplots(13,1,figsize=(24,48))\n",
    "figure.tight_layout(pad=10, w_pad=10, h_pad=10)\n",
    "sns.histplot(x='Age',data=df,ax=axis[0])\n",
    "sns.countplot(x='Work Class',data=df,ax=axis[1])\n",
    "sns.countplot(x='Education',data=df,ax=axis[2])\n",
    "sns.countplot(x='Education Num',data=df,ax=axis[3])\n",
    "sns.countplot(x='Married',data=df,ax=axis[4])\n",
    "sns.countplot(x='Occupation',data=df,ax=axis[5])\n",
    "sns.countplot(x='Relationship',data=df,ax=axis[6])\n",
    "sns.countplot(x='Race',data=df,ax=axis[7])\n",
    "sns.countplot(x='Sex',data=df,ax=axis[8])\n",
    "sns.histplot(x='CapitalGain',data=df,ax=axis[9])\n",
    "sns.histplot(x='CapitalLoss',data=df,ax=axis[10])\n",
    "sns.histplot(x='HoursPerWeek',data=df,ax=axis[11])\n",
    "sns.countplot(x='Native',data=df,ax=axis[12])\n",
    "plt.rcParams.update({'font.size': 12})"
   ]
  },
  {
   "cell_type": "markdown",
   "id": "a243e74e",
   "metadata": {},
   "source": [
    "## Data Modification"
   ]
  },
  {
   "cell_type": "code",
   "execution_count": null,
   "id": "349d98b2",
   "metadata": {},
   "outputs": [],
   "source": [
    "df[\"CapitalGain\"] = df[\"CapitalGain\"].apply(lambda x: 1 if x!=0 else 0)\n",
    "df[\"CapitalLoss\"] = df[\"CapitalLoss\"].apply(lambda x: 1 if x!=0 else 0)\n",
    "df[\"Native\"] = df[\"Native\"].apply(lambda x: \"US\" if x==\"United-States\" else \"Other\")\n",
    "df.head()"
   ]
  },
  {
   "cell_type": "code",
   "execution_count": null,
   "id": "a383c43a",
   "metadata": {
    "scrolled": false
   },
   "outputs": [],
   "source": [
    "X = pd.get_dummies(df, columns=[\"Sex\",\"Race\",\"Relationship\",\"Occupation\",\"Married\",\"Education\",\"Work Class\",\"Native\"])\n",
    "X.drop(\"Output\",inplace=True,axis=1)\n",
    "X.drop(\"Fnlwgt\",inplace=True,axis=1)\n",
    "X.head()"
   ]
  },
  {
   "cell_type": "code",
   "execution_count": null,
   "id": "dda136c2",
   "metadata": {},
   "outputs": [],
   "source": [
    "from sklearn.preprocessing import StandardScaler\n",
    "X = StandardScaler().fit_transform(X)"
   ]
  },
  {
   "cell_type": "code",
   "execution_count": null,
   "id": "e76b7b38",
   "metadata": {},
   "outputs": [],
   "source": [
    "y = df[\"Output\"]\n",
    "y.head()"
   ]
  },
  {
   "cell_type": "markdown",
   "id": "b85a4d4b",
   "metadata": {},
   "source": [
    "## Testing Models"
   ]
  },
  {
   "cell_type": "code",
   "execution_count": null,
   "id": "881ca91a",
   "metadata": {},
   "outputs": [],
   "source": [
    "from sklearn.model_selection import train_test_split\n",
    "X_train, X_test, y_train, y_test = train_test_split(X, y, test_size=0.3)"
   ]
  },
  {
   "cell_type": "code",
   "execution_count": null,
   "id": "dceb11c0",
   "metadata": {},
   "outputs": [],
   "source": [
    "from sklearn.ensemble import RandomForestClassifier\n",
    "from sklearn.metrics import accuracy_score\n",
    "from sklearn.metrics import confusion_matrix\n",
    "forest = RandomForestClassifier()\n",
    "forest.fit(X_train, y_train)\n",
    "pred = forest.predict(X_test)\n",
    "acc = accuracy_score(y_test,pred)\n",
    "print(acc)\n",
    "print(confusion_matrix(y_test, pred))"
   ]
  },
  {
   "cell_type": "code",
   "execution_count": null,
   "id": "1979b637",
   "metadata": {},
   "outputs": [],
   "source": [
    "from sklearn.linear_model import LogisticRegression\n",
    "lr = LogisticRegression()\n",
    "lr.fit(X_train,y_train)\n",
    "pred = lr.predict(X_test)\n",
    "acc = accuracy_score(y_test,pred)\n",
    "print(acc)\n",
    "print(confusion_matrix(y_test, pred))"
   ]
  }
 ],
 "metadata": {
  "kernelspec": {
   "display_name": "Python 3",
   "language": "python",
   "name": "python3"
  },
  "language_info": {
   "codemirror_mode": {
    "name": "ipython",
    "version": 3
   },
   "file_extension": ".py",
   "mimetype": "text/x-python",
   "name": "python",
   "nbconvert_exporter": "python",
   "pygments_lexer": "ipython3",
   "version": "3.7.9"
  }
 },
 "nbformat": 4,
 "nbformat_minor": 5
}
