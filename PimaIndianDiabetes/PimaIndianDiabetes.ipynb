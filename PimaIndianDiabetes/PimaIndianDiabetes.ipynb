{
 "cells": [
  {
   "cell_type": "markdown",
   "id": "3d947dca",
   "metadata": {},
   "source": [
    "# Pima Indian Diabetes Data Classification"
   ]
  },
  {
   "cell_type": "markdown",
   "id": "a347601d",
   "metadata": {},
   "source": [
    "## Reading and exploring the data "
   ]
  },
  {
   "cell_type": "code",
   "execution_count": null,
   "id": "e314654f",
   "metadata": {},
   "outputs": [],
   "source": [
    "import pandas as pd\n",
    "import numpy as np\n",
    "import matplotlib.pyplot as plt\n",
    "%matplotlib inline\n",
    "import seaborn as sns"
   ]
  },
  {
   "cell_type": "code",
   "execution_count": null,
   "id": "556a9cff",
   "metadata": {
    "scrolled": true
   },
   "outputs": [],
   "source": [
    "df = pd.read_csv(\"diabetes.csv\",sep=\",\")\n",
    "df.head()"
   ]
  },
  {
   "cell_type": "code",
   "execution_count": null,
   "id": "8119346d",
   "metadata": {
    "scrolled": false
   },
   "outputs": [],
   "source": [
    "print(str(df.describe())+'\\n')\n",
    "print(str(df.info())+'\\n')\n",
    "print((df==0).sum(axis=0))"
   ]
  },
  {
   "cell_type": "code",
   "execution_count": null,
   "id": "3924203c",
   "metadata": {},
   "outputs": [],
   "source": [
    "X0 = df.drop(\"Outcome\",inplace=False,axis=1)\n",
    "for col in ['Glucose','BloodPressure','SkinThickness','Insulin','BMI']:\n",
    "    df[col] = df[col].replace(0,np.nan)\n",
    "df.isnull().sum()"
   ]
  },
  {
   "cell_type": "markdown",
   "id": "6e4da6dd",
   "metadata": {},
   "source": [
    "## Visualizing the data "
   ]
  },
  {
   "cell_type": "code",
   "execution_count": null,
   "id": "d7df6d24",
   "metadata": {},
   "outputs": [],
   "source": [
    "f = plt.figure(figsize=(15,10))\n",
    "corr = df.corr()\n",
    "plt.matshow(corr,fignum=f.number)\n",
    "plt.xticks(range(len(corr.columns)),corr.columns,fontsize=10,rotation=45)\n",
    "plt.yticks(range(len(corr.columns)),corr.columns,fontsize=10)\n",
    "colourBar = plt.colorbar()\n",
    "colourBar.ax.tick_params(labelsize=10)\n",
    "plt.title('Correlation Matrix',fontsize=18)"
   ]
  },
  {
   "cell_type": "code",
   "execution_count": null,
   "id": "1841237a",
   "metadata": {
    "scrolled": true
   },
   "outputs": [],
   "source": [
    "figure, axis = plt.subplots(9,1,figsize=(10,20))\n",
    "figure.tight_layout(pad=10,w_pad=10,h_pad=10)\n",
    "sns.histplot(x = df['Pregnancies'],ax=axis[0])\n",
    "sns.histplot(x = df['Glucose'],ax=axis[1])\n",
    "sns.histplot(x = df['BloodPressure'], ax=axis[2])\n",
    "sns.histplot(x=df['SkinThickness'], ax=axis[3])\n",
    "sns.histplot(x=df['Insulin'],ax=axis[4])\n",
    "sns.histplot(x=df['BMI'],ax=axis[5])\n",
    "sns.histplot(x=df['DiabetesPedigreeFunction'],ax=axis[6])\n",
    "sns.histplot(x=df['Age'],ax=axis[7])\n",
    "sns.histplot(x=df['Outcome'],ax=axis[8])"
   ]
  },
  {
   "cell_type": "markdown",
   "id": "d1af202f",
   "metadata": {},
   "source": [
    "## Using different types of data imputation "
   ]
  },
  {
   "cell_type": "code",
   "execution_count": null,
   "id": "7b02fee9",
   "metadata": {},
   "outputs": [],
   "source": [
    "y = df['Outcome']\n",
    "df.drop(\"Outcome\",inplace=True,axis=1)\n",
    "X1 = df\n",
    "for col in ['Glucose','BloodPressure','SkinThickness','Insulin','BMI']:\n",
    "    X1[col] = X1[col].replace(np.nan,X1[col].median())"
   ]
  },
  {
   "cell_type": "code",
   "execution_count": null,
   "id": "dc18d7ba",
   "metadata": {
    "scrolled": false
   },
   "outputs": [],
   "source": [
    "from sklearn.impute import KNNImputer\n",
    "X2 = df\n",
    "KNNImputer().fit_transform(X2)"
   ]
  },
  {
   "cell_type": "markdown",
   "id": "c0ed4a7b",
   "metadata": {},
   "source": [
    "## Testing and evaluating the models "
   ]
  },
  {
   "cell_type": "code",
   "execution_count": null,
   "id": "e2240a19",
   "metadata": {},
   "outputs": [],
   "source": [
    "from sklearn.preprocessing import StandardScaler\n",
    "from sklearn.model_selection import train_test_split\n",
    "from sklearn.ensemble import RandomForestClassifier\n",
    "from sklearn.linear_model import LogisticRegression\n",
    "from sklearn.neighbors import KNeighborsClassifier\n",
    "from sklearn.metrics import accuracy_score\n",
    "from sklearn.metrics import confusion_matrix\n",
    "def useModel(X,y,variation):\n",
    "    print(variation)\n",
    "    X = StandardScaler().fit_transform(X)\n",
    "    X_train, X_test, y_train, y_test = train_test_split(X, y, test_size=0.3,random_state=42)\n",
    "    models = [RandomForestClassifier(),LogisticRegression(),KNeighborsClassifier()]\n",
    "    for model in models:\n",
    "        model.fit(X_train, y_train)\n",
    "        pred = model.predict(X_test)\n",
    "        acc = accuracy_score(y_test,pred)\n",
    "        print(str(model))\n",
    "        print(\"Accuracy: {}\".format(acc))\n",
    "        print(\"Confustion Matrix:  \\n {} \\n\".format(confusion_matrix(y_test, pred)))"
   ]
  },
  {
   "cell_type": "code",
   "execution_count": null,
   "id": "893f5b36",
   "metadata": {},
   "outputs": [],
   "source": [
    "useModel(X0,y,\"Using zeros for all missing values \\n -------------------- \\n\")\n",
    "useModel(X1,y,\"Using median to replace all \\n -------------------- \\n\")\n",
    "useModel(X2,y,\"Using KNNImputer to replace all \\n -------------------- \\n\")"
   ]
  }
 ],
 "metadata": {
  "kernelspec": {
   "display_name": "Python 3",
   "language": "python",
   "name": "python3"
  },
  "language_info": {
   "codemirror_mode": {
    "name": "ipython",
    "version": 3
   },
   "file_extension": ".py",
   "mimetype": "text/x-python",
   "name": "python",
   "nbconvert_exporter": "python",
   "pygments_lexer": "ipython3",
   "version": "3.7.9"
  }
 },
 "nbformat": 4,
 "nbformat_minor": 5
}
