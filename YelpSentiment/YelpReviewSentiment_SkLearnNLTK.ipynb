{
 "cells": [
  {
   "cell_type": "markdown",
   "id": "e57a9610",
   "metadata": {},
   "source": [
    "# Yelp Review Sentiment Analysis (NLTK & SkLearn)"
   ]
  },
  {
   "cell_type": "markdown",
   "id": "72d635f2",
   "metadata": {},
   "source": [
    "## Introductory Work"
   ]
  },
  {
   "cell_type": "markdown",
   "id": "b4814635",
   "metadata": {},
   "source": [
    "Import Libraries"
   ]
  },
  {
   "cell_type": "code",
   "execution_count": null,
   "id": "bb88aadc",
   "metadata": {},
   "outputs": [],
   "source": [
    "import numpy as np\n",
    "import seaborn as sns\n",
    "import matplotlib.pyplot as plt\n",
    "%matplotlib inline\n",
    "import nltk\n",
    "import pandas as pd\n",
    "import string\n",
    "import re"
   ]
  },
  {
   "cell_type": "markdown",
   "id": "d78c1994",
   "metadata": {},
   "source": [
    "Read the data"
   ]
  },
  {
   "cell_type": "code",
   "execution_count": null,
   "id": "e4a7dca8",
   "metadata": {
    "scrolled": true
   },
   "outputs": [],
   "source": [
    "df = pd.read_table(\"yelp_labelled.txt\", header=None)\n",
    "df.columns = [\"Text\", \"Sentiment\"]\n",
    "df.head()"
   ]
  },
  {
   "cell_type": "markdown",
   "id": "c49b44fd",
   "metadata": {},
   "source": [
    "## Processing The Text "
   ]
  },
  {
   "cell_type": "markdown",
   "id": "93dfdbe6",
   "metadata": {},
   "source": [
    "Remove punctuation and make all characters lower case"
   ]
  },
  {
   "cell_type": "code",
   "execution_count": null,
   "id": "7a7d16ac",
   "metadata": {},
   "outputs": [],
   "source": [
    "def rmPunc(x):\n",
    "    res = \"\"\n",
    "    for char in x:\n",
    "        if char.isalnum() or char==\" \":\n",
    "            res+=char.lower()\n",
    "    return res\n",
    "\n",
    "df[\"punc\"] = df[\"Text\"].apply(lambda x: rmPunc(x))\n",
    "df.head()"
   ]
  },
  {
   "cell_type": "markdown",
   "id": "53dddfda",
   "metadata": {},
   "source": [
    "Tokenize the text "
   ]
  },
  {
   "cell_type": "code",
   "execution_count": null,
   "id": "2bca2ea7",
   "metadata": {
    "scrolled": true
   },
   "outputs": [],
   "source": [
    "#nltk.download('punkt')\n",
    "from nltk.tokenize import word_tokenize\n",
    "df[\"tokenized\"] = df[\"punc\"].apply(lambda x: word_tokenize(x))\n",
    "df.head()"
   ]
  },
  {
   "cell_type": "markdown",
   "id": "e63ea42c",
   "metadata": {},
   "source": [
    "Remove the stop words "
   ]
  },
  {
   "cell_type": "code",
   "execution_count": null,
   "id": "7987b451",
   "metadata": {
    "scrolled": true
   },
   "outputs": [],
   "source": [
    "from nltk.corpus import stopwords\n",
    "stopWords = stopwords.words('english')\n",
    "def rmStop(x):\n",
    "    res = []\n",
    "    for word in x:\n",
    "        if word not in stopWords:\n",
    "            res.append(word)\n",
    "    return res\n",
    "df[\"rmStop\"] = df[\"tokenized\"].apply(lambda x: rmStop(x))\n",
    "df.head()"
   ]
  },
  {
   "cell_type": "markdown",
   "id": "9a1d2b5d",
   "metadata": {},
   "source": [
    "Apply lemmatization"
   ]
  },
  {
   "cell_type": "code",
   "execution_count": null,
   "id": "f19c7489",
   "metadata": {},
   "outputs": [],
   "source": [
    "from nltk.stem import WordNetLemmatizer\n",
    "def lem(x):\n",
    "    res = []\n",
    "    for word in x:\n",
    "        res.append(WordNetLemmatizer().lemmatize(word))\n",
    "    return res\n",
    "df[\"lemmatized\"] = df[\"rmStop\"].apply(lambda x: lem(x))\n",
    "df.head()"
   ]
  },
  {
   "cell_type": "markdown",
   "id": "bb4bbe02",
   "metadata": {},
   "source": [
    "## Feature Engineering"
   ]
  },
  {
   "cell_type": "markdown",
   "id": "9c1f6da7",
   "metadata": {},
   "source": [
    "Length of text"
   ]
  },
  {
   "cell_type": "code",
   "execution_count": null,
   "id": "407d4ce0",
   "metadata": {
    "scrolled": false
   },
   "outputs": [],
   "source": [
    "df['len'] = df[\"Text\"].apply(lambda x: len(x))\n",
    "df.head()"
   ]
  },
  {
   "cell_type": "markdown",
   "id": "eee7a929",
   "metadata": {},
   "source": [
    "Number of non-stopwords"
   ]
  },
  {
   "cell_type": "code",
   "execution_count": null,
   "id": "4455ee60",
   "metadata": {},
   "outputs": [],
   "source": [
    "df['numUseful'] = df[\"rmStop\"].apply(lambda x: len(x))\n",
    "df.head()"
   ]
  },
  {
   "cell_type": "markdown",
   "id": "a0bfbe7d",
   "metadata": {},
   "source": [
    "Number of capitals"
   ]
  },
  {
   "cell_type": "code",
   "execution_count": null,
   "id": "64d4a5dd",
   "metadata": {
    "scrolled": true
   },
   "outputs": [],
   "source": [
    "import string\n",
    "def caps(x):\n",
    "    count = 0\n",
    "    for char in x:\n",
    "        if char.isupper():\n",
    "            count+=1\n",
    "    return count\n",
    "df['caps'] = df[\"Text\"].apply(lambda x: caps(x))\n",
    "df.head()"
   ]
  },
  {
   "cell_type": "markdown",
   "id": "afd58da9",
   "metadata": {},
   "source": [
    "Number of punctuation"
   ]
  },
  {
   "cell_type": "code",
   "execution_count": null,
   "id": "ea76ef73",
   "metadata": {},
   "outputs": [],
   "source": [
    "df[\"numPunc\"] = df[\"Text\"].apply(lambda x: len(x)) - df[\"punc\"].apply(lambda x: len(x))\n",
    "df.head()"
   ]
  },
  {
   "cell_type": "markdown",
   "id": "2e08912c",
   "metadata": {},
   "source": [
    "Create a dataframe with only positive reviews"
   ]
  },
  {
   "cell_type": "code",
   "execution_count": null,
   "id": "be9ce6b0",
   "metadata": {},
   "outputs": [],
   "source": [
    "pos = df[df[\"Sentiment\"] == 1]\n",
    "pos.head()"
   ]
  },
  {
   "cell_type": "markdown",
   "id": "83c36a35",
   "metadata": {},
   "source": [
    "Create a dataframe with only negative reviews"
   ]
  },
  {
   "cell_type": "code",
   "execution_count": null,
   "id": "bc605252",
   "metadata": {},
   "outputs": [],
   "source": [
    "neg = df[df[\"Sentiment\"] == 0]\n",
    "neg.head()"
   ]
  },
  {
   "cell_type": "markdown",
   "id": "83e00e7b",
   "metadata": {},
   "source": [
    "Compare length of text between positive and negative reviews"
   ]
  },
  {
   "cell_type": "code",
   "execution_count": null,
   "id": "0864e0c2",
   "metadata": {},
   "outputs": [],
   "source": [
    "plt.hist(pos[\"len\"],np.linspace(0,160,40),density=True, alpha=0.4, label=\"Positive\")\n",
    "plt.hist(neg[\"len\"],np.linspace(0,160,40),density=True, alpha=0.4, label=\"Negative\")\n",
    "plt.legend(loc = \"upper right\")\n",
    "plt.xlabel('Length of text', fontsize=14)\n",
    "plt.ylabel('Frequency', fontsize=14)\n",
    "plt.show()"
   ]
  },
  {
   "cell_type": "markdown",
   "id": "d27e158d",
   "metadata": {},
   "source": [
    "Compare number of useful words between positive and negative reviews"
   ]
  },
  {
   "cell_type": "code",
   "execution_count": null,
   "id": "b11d54ac",
   "metadata": {},
   "outputs": [],
   "source": [
    "plt.hist(pos[\"numUseful\"],np.linspace(0,30,30),density=True, alpha=0.4, label=\"Positive\")\n",
    "plt.hist(neg[\"numUseful\"],np.linspace(0,30,30),density=True, alpha=0.4, label=\"Negative\")\n",
    "plt.legend(loc = \"upper right\")\n",
    "plt.xlabel('Number of useful words', fontsize=14)\n",
    "plt.ylabel('Frequency', fontsize=14)\n",
    "plt.show()"
   ]
  },
  {
   "cell_type": "markdown",
   "id": "c2905e4e",
   "metadata": {},
   "source": [
    "Compare number of capital letters between positive and negative reviews"
   ]
  },
  {
   "cell_type": "code",
   "execution_count": null,
   "id": "a536c51c",
   "metadata": {},
   "outputs": [],
   "source": [
    "plt.hist(pos[\"caps\"],np.linspace(0,20,20),density=True,alpha=0.4, label=\"Positive\")\n",
    "plt.hist(neg[\"caps\"],np.linspace(0,20,20),density=True, alpha=0.4, label=\"Negative\")\n",
    "plt.legend(loc = \"upper right\")\n",
    "plt.xlabel('Number of capital letters', fontsize=14)\n",
    "plt.ylabel('Frequency', fontsize=14)\n",
    "plt.show()"
   ]
  },
  {
   "cell_type": "markdown",
   "id": "9dc03caf",
   "metadata": {},
   "source": [
    "Compare number of punctuation between positive and negative reviews"
   ]
  },
  {
   "cell_type": "code",
   "execution_count": null,
   "id": "7dee8256",
   "metadata": {
    "scrolled": true
   },
   "outputs": [],
   "source": [
    "plt.hist(pos[\"numPunc\"],np.linspace(0,10,10),density=True, alpha=0.4, label=\"Positive\")\n",
    "plt.hist(neg[\"numPunc\"],np.linspace(0,10,10),density=True, alpha=0.4,label=\"Negative\")\n",
    "plt.legend(loc = \"upper right\")\n",
    "plt.xlabel('Number of punctuation marks', fontsize=14)\n",
    "plt.ylabel('Frequency', fontsize=14)\n",
    "plt.show()"
   ]
  },
  {
   "cell_type": "markdown",
   "id": "8ea3dbd5",
   "metadata": {},
   "source": [
    "Based on the figures above, none of these features are indicative of whether a review is postive or negative."
   ]
  },
  {
   "cell_type": "markdown",
   "id": "9cad4de6",
   "metadata": {},
   "source": [
    "## Prepare the data"
   ]
  },
  {
   "cell_type": "markdown",
   "id": "7885834c",
   "metadata": {},
   "source": [
    "Prepare dataframe to use TF-IDF"
   ]
  },
  {
   "cell_type": "code",
   "execution_count": null,
   "id": "2d5153b6",
   "metadata": {
    "scrolled": false
   },
   "outputs": [],
   "source": [
    "lines = []\n",
    "for line in df['lemmatized']:\n",
    "    text = \"\"\n",
    "    for word in line:\n",
    "        text += word + \" \"\n",
    "    text.strip()\n",
    "    lines.append(text)\n",
    "df[\"lines\"] = lines\n",
    "df.head()"
   ]
  },
  {
   "cell_type": "markdown",
   "id": "8c277008",
   "metadata": {},
   "source": [
    "Apply TF-IDF"
   ]
  },
  {
   "cell_type": "code",
   "execution_count": null,
   "id": "8b032c60",
   "metadata": {},
   "outputs": [],
   "source": [
    "from sklearn.feature_extraction.text import TfidfVectorizer\n",
    "vectorizer = TfidfVectorizer()\n",
    "vectored = vectorizer.fit_transform(df['lines']).toarray()\n",
    "vectored.shape\n",
    "print(vectored)"
   ]
  },
  {
   "cell_type": "markdown",
   "id": "004839ff",
   "metadata": {},
   "source": [
    "Split Data"
   ]
  },
  {
   "cell_type": "code",
   "execution_count": null,
   "id": "68c6405b",
   "metadata": {},
   "outputs": [],
   "source": [
    "from sklearn.model_selection import train_test_split\n",
    "X_train, X_test, y_train, y_test = train_test_split(vectored, df['Sentiment'], test_size=0.3)"
   ]
  },
  {
   "cell_type": "markdown",
   "id": "bd6c4028",
   "metadata": {},
   "source": [
    "## Testing Models"
   ]
  },
  {
   "cell_type": "markdown",
   "id": "a46a2965",
   "metadata": {},
   "source": [
    "Random Forest"
   ]
  },
  {
   "cell_type": "code",
   "execution_count": null,
   "id": "f68eaf57",
   "metadata": {},
   "outputs": [],
   "source": [
    "from sklearn.ensemble import RandomForestClassifier\n",
    "from sklearn.metrics import accuracy_score, confusion_matrix, classification_report\n",
    "from sklearn.metrics import confusion_matrix\n",
    "forest = RandomForestClassifier()\n",
    "forest.fit(X_train, y_train)\n",
    "pred = forest.predict(X_test)\n",
    "print(classification_report(pred, y_test))\n",
    "print(confusion_matrix(pred,y_test))\n",
    "print(accuracy_score(pred, y_test))"
   ]
  },
  {
   "cell_type": "markdown",
   "id": "2320632d",
   "metadata": {},
   "source": [
    "Logistic Regression"
   ]
  },
  {
   "cell_type": "code",
   "execution_count": null,
   "id": "41bd3899",
   "metadata": {},
   "outputs": [],
   "source": [
    "from sklearn.linear_model import LogisticRegression\n",
    "lr = LogisticRegression()\n",
    "lr.fit(X_train,y_train)\n",
    "pred = lr.predict(X_test)\n",
    "print(classification_report(pred, y_test))\n",
    "print(confusion_matrix(pred,y_test))\n",
    "print(accuracy_score(pred, y_test))"
   ]
  }
 ],
 "metadata": {
  "kernelspec": {
   "display_name": "Python 3",
   "language": "python",
   "name": "python3"
  },
  "language_info": {
   "codemirror_mode": {
    "name": "ipython",
    "version": 3
   },
   "file_extension": ".py",
   "mimetype": "text/x-python",
   "name": "python",
   "nbconvert_exporter": "python",
   "pygments_lexer": "ipython3",
   "version": "3.7.9"
  }
 },
 "nbformat": 4,
 "nbformat_minor": 5
}
