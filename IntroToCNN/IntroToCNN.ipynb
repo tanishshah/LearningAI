{
 "cells": [
  {
   "cell_type": "markdown",
   "id": "5f5f4c85",
   "metadata": {},
   "source": [
    "# Intro to Convolutional Neural Networks"
   ]
  },
  {
   "cell_type": "code",
   "execution_count": null,
   "id": "2b111d8e",
   "metadata": {
    "id": "2b111d8e"
   },
   "outputs": [],
   "source": [
    "import torch\n",
    "import torchvision\n",
    "import torchvision.transforms as transforms\n",
    "from torchvision import datasets\n",
    "from torch.utils.data import DataLoader\n",
    "device = torch.device(\"cuda\" if torch.cuda.is_available() else \"cpu\")"
   ]
  },
  {
   "cell_type": "code",
   "execution_count": null,
   "id": "44690ec3",
   "metadata": {
    "colab": {
     "base_uri": "https://localhost:8080/",
     "height": 122,
     "referenced_widgets": [
      "32260315945d43a69cff5fa5e029cce6",
      "e584f40d522b4a71a9572b3d87e3ad64",
      "62c2957d709441ba99f0d38fa3aa0574",
      "4d7f06159b3a41ef9a5e924435be6900",
      "6bd6128dd8f546ca937cda23217a01e0",
      "cf72a41211d7491cb819a19a433460ab",
      "b69d6ae422314636ad76b6cefac48ca2",
      "8907e047f3c84ed79ad4554045c0666f"
     ]
    },
    "id": "44690ec3",
    "outputId": "8dd36bc2-4332-4ef3-8200-e20144778beb"
   },
   "outputs": [],
   "source": [
    "dataTransforms = {\n",
    "    'train': transforms.Compose([\n",
    "        transforms.RandomRotation(15),\n",
    "        transforms.RandomAffine(0,shear=8, scale=(0.8,1.2)),\n",
    "        transforms.RandomHorizontalFlip(),\n",
    "        transforms.RandomVerticalFlip(),\n",
    "        transforms.ColorJitter(),\n",
    "        transforms.ToTensor(),\n",
    "        transforms.Normalize([0.5,0.5,0.5], [0.5,0.5,0.5])\n",
    "    ]),\n",
    "    'test': transforms.Compose([\n",
    "        transforms.ToTensor(),\n",
    "        transforms.Normalize([0.5,0.5,0.5], [0.5,0.5,0.5])\n",
    "    ])\n",
    "}\n",
    "\n",
    "trainset = datasets.CIFAR10(root='./data',\n",
    "                                      train=True,\n",
    "                                      download=True,                                     \n",
    "                                      transform=dataTransforms['train'])\n",
    "trainloader = DataLoader(trainset, batch_size = 16, shuffle=True)\n",
    "\n",
    "testset = datasets.CIFAR10(root='./data',\n",
    "                                     train=False,\n",
    "                                     download=True,\n",
    "                                     transform=dataTransforms['test'])\n",
    "testloader = DataLoader(testset,batch_size=16,shuffle=True)\n"
   ]
  },
  {
   "cell_type": "code",
   "execution_count": null,
   "id": "2ac79704",
   "metadata": {
    "colab": {
     "base_uri": "https://localhost:8080/",
     "height": 137
    },
    "id": "2ac79704",
    "outputId": "9fbb7958-2eee-497c-a867-a7891f475fe2"
   },
   "outputs": [],
   "source": [
    "import matplotlib.pyplot as plt\n",
    "import numpy as np\n",
    "%matplotlib inline\n",
    "\n",
    "def showImg(img):\n",
    "    plt.imshow(np.transpose(img/2 + 0.5,(1,2,0)))\n",
    "    plt.show()\n",
    "dataiter = iter(trainloader)\n",
    "images, labels = dataiter.next()\n",
    "showImg(torchvision.utils.make_grid(images))"
   ]
  },
  {
   "cell_type": "code",
   "execution_count": null,
   "id": "627fde87",
   "metadata": {
    "colab": {
     "base_uri": "https://localhost:8080/"
    },
    "id": "627fde87",
    "outputId": "c5bd1c25-0b02-4b19-ca95-f52e0a13503e"
   },
   "outputs": [],
   "source": [
    "import torch.nn as nn\n",
    "import torch.nn.functional as F\n",
    "\n",
    "#using vgg16 as inspiration to test out using a cnn \n",
    "class Model(nn.Module):\n",
    "    def __init__(self):\n",
    "        super().__init__()\n",
    "        self.conv1_1 = nn.Conv2d(3,64,3,padding=1)\n",
    "        self.conv1_2 = nn.Conv2d(64,64,3,padding=1)\n",
    "        \n",
    "        self.conv2_1 = nn.Conv2d(64,256,3,padding=1)\n",
    "        self.conv2_2 = nn.Conv2d(256,256,3,padding=1)\n",
    "        \n",
    "        self.pool = nn.MaxPool2d(2,2)\n",
    "        \n",
    "        self.dropout = nn.Dropout(0.15)\n",
    "        \n",
    "        self.fc1 = nn.Linear(256*8*8,256)\n",
    "        self.fc2 = nn.Linear(256,64)\n",
    "        self.fc3 = nn.Linear(64,10)\n",
    "   \n",
    "        \n",
    "    def forward(self,x):\n",
    "        x = F.relu(self.conv1_1(x))\n",
    "        x = F.relu(self.conv1_2(x))\n",
    "        x = self.pool(x)\n",
    "        \n",
    "        x = F.relu(self.conv2_1(x))\n",
    "        x = F.relu(self.conv2_2(x))\n",
    "        x = self.pool(x)\n",
    "                              \n",
    "        x = torch.flatten(x,1)\n",
    "        x = self.dropout(F.relu(self.fc1(x)))\n",
    "        x = self.dropout(F.relu(self.fc2(x)))\n",
    "        x = self.fc3(x)\n",
    "                      \n",
    "        return x\n",
    "        \n",
    "model = Model()\n",
    "model.to(device)"
   ]
  },
  {
   "cell_type": "code",
   "execution_count": null,
   "id": "6ed8b2a7",
   "metadata": {
    "id": "6ed8b2a7"
   },
   "outputs": [],
   "source": [
    "import torch.optim as optim\n",
    "criterion = nn.CrossEntropyLoss()\n",
    "optimizer = optim.SGD(model.parameters(),lr=0.003,momentum=0.9)"
   ]
  },
  {
   "cell_type": "code",
   "execution_count": null,
   "id": "43c3decc",
   "metadata": {
    "colab": {
     "base_uri": "https://localhost:8080/"
    },
    "id": "43c3decc",
    "outputId": "74e760cc-0b13-4c3e-a58f-a3d51df0e501"
   },
   "outputs": [],
   "source": [
    "epochs = 15\n",
    "for epoch in range(epochs):\n",
    "    #train\n",
    "    model.train()\n",
    "    trainLoss = 0\n",
    "    for images, labels in trainloader:\n",
    "        images,labels = images.to(device),labels.to(device)\n",
    "        optimizer.zero_grad()\n",
    "        output = model(images)\n",
    "        loss = criterion(output,labels)\n",
    "        loss.backward()\n",
    "        optimizer.step()\n",
    "        trainLoss += loss.item()*images.size(0)\n",
    "    #test\n",
    "    model.eval()\n",
    "    correct = 0\n",
    "    testLoss = 0\n",
    "    total = 0\n",
    "    with torch.no_grad():\n",
    "        for images,labels in testloader:\n",
    "            images,labels = images.to(device),labels.to(device)\n",
    "            output = model(images)\n",
    "            loss = criterion(output,labels)\n",
    "            testLoss += loss.item()*images.size(0)\n",
    "            _, prediction = torch.max(output.data,1)\n",
    "            total += labels.size(0)\n",
    "            correct += (prediction==labels).sum().item()\n",
    "    #print results\n",
    "    accuracy = (correct*100 / total)\n",
    "    trainLoss/=(len(trainloader) * 16) #average loss (16 is batch size)\n",
    "    testLoss/= (len(testloader)*16)\n",
    "    print(\"Epoch: {}, Train Loss: {:.3f}, Test Loss: {:.3f}, Accuracy: {:.3f}\".format(epoch,trainLoss,testLoss,accuracy))\n",
    "    "
   ]
  }
 ],
 "metadata": {
  "accelerator": "GPU",
  "colab": {
   "collapsed_sections": [],
   "name": "Untitled.ipynb",
   "provenance": []
  },
  "kernelspec": {
   "display_name": "Python 3",
   "language": "python",
   "name": "python3"
  },
  "language_info": {
   "codemirror_mode": {
    "name": "ipython",
    "version": 3
   },
   "file_extension": ".py",
   "mimetype": "text/x-python",
   "name": "python",
   "nbconvert_exporter": "python",
   "pygments_lexer": "ipython3",
   "version": "3.7.9"
  },
  "widgets": {
   "application/vnd.jupyter.widget-state+json": {
    "32260315945d43a69cff5fa5e029cce6": {
     "model_module": "@jupyter-widgets/controls",
     "model_name": "HBoxModel",
     "state": {
      "_dom_classes": [],
      "_model_module": "@jupyter-widgets/controls",
      "_model_module_version": "1.5.0",
      "_model_name": "HBoxModel",
      "_view_count": null,
      "_view_module": "@jupyter-widgets/controls",
      "_view_module_version": "1.5.0",
      "_view_name": "HBoxView",
      "box_style": "",
      "children": [
       "IPY_MODEL_62c2957d709441ba99f0d38fa3aa0574",
       "IPY_MODEL_4d7f06159b3a41ef9a5e924435be6900"
      ],
      "layout": "IPY_MODEL_e584f40d522b4a71a9572b3d87e3ad64"
     }
    },
    "4d7f06159b3a41ef9a5e924435be6900": {
     "model_module": "@jupyter-widgets/controls",
     "model_name": "HTMLModel",
     "state": {
      "_dom_classes": [],
      "_model_module": "@jupyter-widgets/controls",
      "_model_module_version": "1.5.0",
      "_model_name": "HTMLModel",
      "_view_count": null,
      "_view_module": "@jupyter-widgets/controls",
      "_view_module_version": "1.5.0",
      "_view_name": "HTMLView",
      "description": "",
      "description_tooltip": null,
      "layout": "IPY_MODEL_8907e047f3c84ed79ad4554045c0666f",
      "placeholder": "​",
      "style": "IPY_MODEL_b69d6ae422314636ad76b6cefac48ca2",
      "value": " 170499072/? [00:07&lt;00:00, 23182907.73it/s]"
     }
    },
    "62c2957d709441ba99f0d38fa3aa0574": {
     "model_module": "@jupyter-widgets/controls",
     "model_name": "FloatProgressModel",
     "state": {
      "_dom_classes": [],
      "_model_module": "@jupyter-widgets/controls",
      "_model_module_version": "1.5.0",
      "_model_name": "FloatProgressModel",
      "_view_count": null,
      "_view_module": "@jupyter-widgets/controls",
      "_view_module_version": "1.5.0",
      "_view_name": "ProgressView",
      "bar_style": "success",
      "description": "",
      "description_tooltip": null,
      "layout": "IPY_MODEL_cf72a41211d7491cb819a19a433460ab",
      "max": 170498071,
      "min": 0,
      "orientation": "horizontal",
      "style": "IPY_MODEL_6bd6128dd8f546ca937cda23217a01e0",
      "value": 170498071
     }
    },
    "6bd6128dd8f546ca937cda23217a01e0": {
     "model_module": "@jupyter-widgets/controls",
     "model_name": "ProgressStyleModel",
     "state": {
      "_model_module": "@jupyter-widgets/controls",
      "_model_module_version": "1.5.0",
      "_model_name": "ProgressStyleModel",
      "_view_count": null,
      "_view_module": "@jupyter-widgets/base",
      "_view_module_version": "1.2.0",
      "_view_name": "StyleView",
      "bar_color": null,
      "description_width": "initial"
     }
    },
    "8907e047f3c84ed79ad4554045c0666f": {
     "model_module": "@jupyter-widgets/base",
     "model_name": "LayoutModel",
     "state": {
      "_model_module": "@jupyter-widgets/base",
      "_model_module_version": "1.2.0",
      "_model_name": "LayoutModel",
      "_view_count": null,
      "_view_module": "@jupyter-widgets/base",
      "_view_module_version": "1.2.0",
      "_view_name": "LayoutView",
      "align_content": null,
      "align_items": null,
      "align_self": null,
      "border": null,
      "bottom": null,
      "display": null,
      "flex": null,
      "flex_flow": null,
      "grid_area": null,
      "grid_auto_columns": null,
      "grid_auto_flow": null,
      "grid_auto_rows": null,
      "grid_column": null,
      "grid_gap": null,
      "grid_row": null,
      "grid_template_areas": null,
      "grid_template_columns": null,
      "grid_template_rows": null,
      "height": null,
      "justify_content": null,
      "justify_items": null,
      "left": null,
      "margin": null,
      "max_height": null,
      "max_width": null,
      "min_height": null,
      "min_width": null,
      "object_fit": null,
      "object_position": null,
      "order": null,
      "overflow": null,
      "overflow_x": null,
      "overflow_y": null,
      "padding": null,
      "right": null,
      "top": null,
      "visibility": null,
      "width": null
     }
    },
    "b69d6ae422314636ad76b6cefac48ca2": {
     "model_module": "@jupyter-widgets/controls",
     "model_name": "DescriptionStyleModel",
     "state": {
      "_model_module": "@jupyter-widgets/controls",
      "_model_module_version": "1.5.0",
      "_model_name": "DescriptionStyleModel",
      "_view_count": null,
      "_view_module": "@jupyter-widgets/base",
      "_view_module_version": "1.2.0",
      "_view_name": "StyleView",
      "description_width": ""
     }
    },
    "cf72a41211d7491cb819a19a433460ab": {
     "model_module": "@jupyter-widgets/base",
     "model_name": "LayoutModel",
     "state": {
      "_model_module": "@jupyter-widgets/base",
      "_model_module_version": "1.2.0",
      "_model_name": "LayoutModel",
      "_view_count": null,
      "_view_module": "@jupyter-widgets/base",
      "_view_module_version": "1.2.0",
      "_view_name": "LayoutView",
      "align_content": null,
      "align_items": null,
      "align_self": null,
      "border": null,
      "bottom": null,
      "display": null,
      "flex": null,
      "flex_flow": null,
      "grid_area": null,
      "grid_auto_columns": null,
      "grid_auto_flow": null,
      "grid_auto_rows": null,
      "grid_column": null,
      "grid_gap": null,
      "grid_row": null,
      "grid_template_areas": null,
      "grid_template_columns": null,
      "grid_template_rows": null,
      "height": null,
      "justify_content": null,
      "justify_items": null,
      "left": null,
      "margin": null,
      "max_height": null,
      "max_width": null,
      "min_height": null,
      "min_width": null,
      "object_fit": null,
      "object_position": null,
      "order": null,
      "overflow": null,
      "overflow_x": null,
      "overflow_y": null,
      "padding": null,
      "right": null,
      "top": null,
      "visibility": null,
      "width": null
     }
    },
    "e584f40d522b4a71a9572b3d87e3ad64": {
     "model_module": "@jupyter-widgets/base",
     "model_name": "LayoutModel",
     "state": {
      "_model_module": "@jupyter-widgets/base",
      "_model_module_version": "1.2.0",
      "_model_name": "LayoutModel",
      "_view_count": null,
      "_view_module": "@jupyter-widgets/base",
      "_view_module_version": "1.2.0",
      "_view_name": "LayoutView",
      "align_content": null,
      "align_items": null,
      "align_self": null,
      "border": null,
      "bottom": null,
      "display": null,
      "flex": null,
      "flex_flow": null,
      "grid_area": null,
      "grid_auto_columns": null,
      "grid_auto_flow": null,
      "grid_auto_rows": null,
      "grid_column": null,
      "grid_gap": null,
      "grid_row": null,
      "grid_template_areas": null,
      "grid_template_columns": null,
      "grid_template_rows": null,
      "height": null,
      "justify_content": null,
      "justify_items": null,
      "left": null,
      "margin": null,
      "max_height": null,
      "max_width": null,
      "min_height": null,
      "min_width": null,
      "object_fit": null,
      "object_position": null,
      "order": null,
      "overflow": null,
      "overflow_x": null,
      "overflow_y": null,
      "padding": null,
      "right": null,
      "top": null,
      "visibility": null,
      "width": null
     }
    }
   }
  }
 },
 "nbformat": 4,
 "nbformat_minor": 5
}
