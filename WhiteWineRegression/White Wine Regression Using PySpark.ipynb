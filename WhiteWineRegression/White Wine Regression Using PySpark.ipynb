{
 "cells": [
  {
   "cell_type": "markdown",
   "metadata": {},
   "source": [
    "# White Wine Regression Using PySpark"
   ]
  },
  {
   "cell_type": "markdown",
   "metadata": {},
   "source": [
    "## Setting up PySpark"
   ]
  },
  {
   "cell_type": "code",
   "execution_count": null,
   "metadata": {
    "colab": {
     "base_uri": "https://localhost:8080/"
    },
    "id": "E_c3puE14bwX",
    "outputId": "dce9e619-9ef6-4ba4-f17c-ec411b8e68d0"
   },
   "outputs": [],
   "source": [
    "\"\"\"\n",
    "!apt-get update\n",
    "!apt-get install openjdk-8-jdk-headless -qq > /dev/null\n",
    "!wget https://downloads.apache.org/spark/spark-3.1.2/spark-3.1.2-bin-hadoop3.2.tgz\n",
    "!tar xf spark-3.1.2-bin-hadoop3.2.tgz\n",
    "!pip install pyspark\n",
    "!pip install findspark\n",
    "\"\"\""
   ]
  },
  {
   "cell_type": "code",
   "execution_count": null,
   "metadata": {
    "id": "5COZXCzg4kXk"
   },
   "outputs": [],
   "source": [
    "import os\n",
    "os.environ[\"JAVA_HOME\"] = \"/usr/lib/jvm/java-8-openjdk-amd64\"\n",
    "os.environ[\"SPARK_HOME\"] = \"/content/spark-3.1.2-bin-hadoop3.2\""
   ]
  },
  {
   "cell_type": "code",
   "execution_count": null,
   "metadata": {
    "colab": {
     "base_uri": "https://localhost:8080/",
     "height": 222
    },
    "id": "0T9MkW3J4k_T",
    "outputId": "1f6f4aff-4d84-4172-c077-6df2cc061176"
   },
   "outputs": [],
   "source": [
    "import findspark\n",
    "import pyspark\n",
    "from pyspark.sql import SparkSession\n",
    "import pyspark.sql.functions as F\n",
    "from pyspark.sql.types import *\n",
    "findspark.init()\n",
    "spark = SparkSession.builder.getOrCreate()\n",
    "spark"
   ]
  },
  {
   "cell_type": "markdown",
   "metadata": {},
   "source": [
    "## Getting the data"
   ]
  },
  {
   "cell_type": "code",
   "execution_count": null,
   "metadata": {
    "colab": {
     "base_uri": "https://localhost:8080/"
    },
    "id": "DQqbjhO65Idc",
    "outputId": "abbba537-18b0-4329-8d95-f5736fe9866d"
   },
   "outputs": [],
   "source": [
    "#!wget https://archive.ics.uci.edu/ml/machine-learning-databases/wine-quality/winequality-white.csv"
   ]
  },
  {
   "cell_type": "code",
   "execution_count": null,
   "metadata": {
    "colab": {
     "base_uri": "https://localhost:8080/"
    },
    "id": "FBCWC5Ww5TPV",
    "outputId": "10a57a88-9279-477b-a2c5-b23b744c976b"
   },
   "outputs": [],
   "source": [
    "df = spark.read.csv(\"winequality-white.csv\",header=True,sep=\";\",inferSchema=True)\n",
    "df.show()\n",
    "df.printSchema()\n",
    "df.describe().show()"
   ]
  },
  {
   "cell_type": "markdown",
   "metadata": {},
   "source": [
    "## Building and evaluating the model"
   ]
  },
  {
   "cell_type": "code",
   "execution_count": null,
   "metadata": {
    "colab": {
     "base_uri": "https://localhost:8080/"
    },
    "id": "3tKKrIY06lu7",
    "outputId": "8ebb4521-e8e7-48e3-d4d9-8307c8b53c9b"
   },
   "outputs": [],
   "source": [
    "from pyspark.ml.feature import VectorAssembler\n",
    "assembler = VectorAssembler(inputCols=[\"fixed acidity\",\"volatile acidity\",\"citric acid\",\"residual sugar\",\"chlorides\",\"free sulfur dioxide\",\"total sulfur dioxide\",\"density\",\"pH\",\"sulphates\",\"alcohol\"],outputCol=\"features\")\n",
    "output = assembler.transform(df).select(\"features\",\"quality\")\n",
    "output.show(truncate=False)"
   ]
  },
  {
   "cell_type": "code",
   "execution_count": null,
   "metadata": {
    "colab": {
     "base_uri": "https://localhost:8080/"
    },
    "id": "sPeFwr9eJ0uP",
    "outputId": "3d48fbb1-d4e3-44b2-9250-a1acbb9fba3f"
   },
   "outputs": [],
   "source": [
    "train,test = output.randomSplit([0.7,0.3])\n",
    "train.show(5)\n",
    "train.describe().show()\n",
    "test.show(5)\n",
    "test.describe().show()"
   ]
  },
  {
   "cell_type": "code",
   "execution_count": null,
   "metadata": {
    "colab": {
     "base_uri": "https://localhost:8080/"
    },
    "id": "dMAu3TfBKVq3",
    "outputId": "67d1f6b7-cfe5-4dc2-d7c1-fdc7ba39c371"
   },
   "outputs": [],
   "source": [
    "from pyspark.ml.regression import LinearRegression\n",
    "lr = LinearRegression(featuresCol=\"features\",labelCol=\"quality\")\n",
    "model = lr.fit(train)\n",
    "print(\"The coeffecients are {} and the intercept is {} \".format(model.coefficients,model.intercept))"
   ]
  },
  {
   "cell_type": "code",
   "execution_count": null,
   "metadata": {
    "colab": {
     "base_uri": "https://localhost:8080/"
    },
    "id": "AB022gjxL3In",
    "outputId": "c97ee691-261b-4bdf-80d3-308998e5f079"
   },
   "outputs": [],
   "source": [
    "predictions = model.transform(test)\n",
    "predictions.show()"
   ]
  },
  {
   "cell_type": "code",
   "execution_count": null,
   "metadata": {
    "colab": {
     "base_uri": "https://localhost:8080/"
    },
    "id": "OE-SVUKBMDxH",
    "outputId": "a520a87e-a319-49ff-8a24-5bc454bf5fd4"
   },
   "outputs": [],
   "source": [
    "from pyspark.ml.evaluation import RegressionEvaluator\n",
    "evaluator = RegressionEvaluator(labelCol=\"quality\",predictionCol=\"prediction\",metricName=\"rmse\")\n",
    "eval = evaluator.evaluate(predictions)\n",
    "print(\"The RMSE is {}\".format(eval))"
   ]
  }
 ],
 "metadata": {
  "colab": {
   "name": "WWRegression(Spark)",
   "provenance": []
  },
  "kernelspec": {
   "display_name": "Python 3",
   "language": "python",
   "name": "python3"
  },
  "language_info": {
   "codemirror_mode": {
    "name": "ipython",
    "version": 3
   },
   "file_extension": ".py",
   "mimetype": "text/x-python",
   "name": "python",
   "nbconvert_exporter": "python",
   "pygments_lexer": "ipython3",
   "version": "3.7.9"
  }
 },
 "nbformat": 4,
 "nbformat_minor": 1
}
