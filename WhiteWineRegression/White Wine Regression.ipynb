{
 "cells": [
  {
   "cell_type": "markdown",
   "id": "8854faa1",
   "metadata": {},
   "source": [
    "# Intro to Regression: White Wine Quality"
   ]
  },
  {
   "cell_type": "markdown",
   "id": "995d98b1",
   "metadata": {},
   "source": [
    "## Import and understand the data"
   ]
  },
  {
   "cell_type": "code",
   "execution_count": null,
   "id": "ecf5e458",
   "metadata": {},
   "outputs": [],
   "source": [
    "import pandas as pd\n",
    "import matplotlib.pyplot as plt\n",
    "import seaborn as sns\n",
    "import numpy as np\n",
    "import sklearn"
   ]
  },
  {
   "cell_type": "code",
   "execution_count": null,
   "id": "fe27eab0",
   "metadata": {},
   "outputs": [],
   "source": [
    "df = pd.read_csv(\"white.csv\", sep=';')\n",
    "df.head()"
   ]
  },
  {
   "cell_type": "code",
   "execution_count": null,
   "id": "c8efc750",
   "metadata": {},
   "outputs": [],
   "source": [
    "df.describe()"
   ]
  },
  {
   "cell_type": "code",
   "execution_count": null,
   "id": "5cc3a87c",
   "metadata": {
    "scrolled": true
   },
   "outputs": [],
   "source": [
    "df.info()"
   ]
  },
  {
   "cell_type": "markdown",
   "id": "702beaf7",
   "metadata": {},
   "source": [
    "## Data Visualization"
   ]
  },
  {
   "cell_type": "code",
   "execution_count": null,
   "id": "0d72cffd",
   "metadata": {},
   "outputs": [],
   "source": [
    "f = plt.figure(figsize=(12, 10))\n",
    "corr = df.corr()\n",
    "plt.matshow(corr,fignum=f.number)\n",
    "plt.xticks(range(len(corr.columns)),corr.columns, fontsize=12, rotation=45)\n",
    "plt.yticks(range(len(corr.columns)),corr.columns, fontsize=12)\n",
    "cb = plt.colorbar()\n",
    "cb.ax.tick_params(labelsize=10)\n",
    "plt.title('Correlation Matrix', fontsize=16)"
   ]
  },
  {
   "cell_type": "code",
   "execution_count": null,
   "id": "2eb3abc8",
   "metadata": {},
   "outputs": [],
   "source": [
    "figure, axis = plt.subplots(6,2,figsize=(90,90))\n",
    "figure.tight_layout(pad=10,w_pad=10,h_pad=10)\n",
    "sns.histplot(x='fixed acidity',data=df,ax=axis[0][0]) \n",
    "sns.histplot(x='volatile acidity',data=df,ax=axis[0][1]) \n",
    "sns.histplot(x='citric acid',data=df,ax=axis[1][0]) \n",
    "sns.histplot(x='residual sugar',data=df,ax=axis[1][1])\n",
    "sns.histplot(x='chlorides',data=df,ax=axis[2][0]) \n",
    "sns.histplot(x='free sulfur dioxide',data=df,ax=axis[2][1]) \n",
    "sns.histplot(x='total sulfur dioxide',data=df,ax=axis[3][0]) \n",
    "sns.histplot(x='density',data=df,ax=axis[3][1])\n",
    "sns.histplot(x='pH',data=df,ax=axis[4][0]) \n",
    "sns.histplot(x='sulphates',data=df,ax=axis[4][1]) \n",
    "sns.histplot(x='alcohol',data=df,ax=axis[5][0]) \n",
    "sns.histplot(x='quality',data=df,ax=axis[5][1])\n",
    "plt.rcParams.update({'font.size':60})"
   ]
  },
  {
   "cell_type": "code",
   "execution_count": null,
   "id": "92e4ac58",
   "metadata": {
    "scrolled": false
   },
   "outputs": [],
   "source": [
    "figure, axis = plt.subplots(11,1,figsize=(90,300))\n",
    "figure.tight_layout(pad=4,w_pad=4,h_pad=4)\n",
    "sns.scatterplot(x=\"fixed acidity\", y=\"quality\", data=df, ax=axis[0],s=200)\n",
    "sns.scatterplot(x=\"volatile acidity\", y=\"quality\", data=df, ax=axis[1],s=200)\n",
    "sns.scatterplot(x=\"citric acid\", y=\"quality\", data=df, ax=axis[2],s=200)\n",
    "sns.scatterplot(x=\"residual sugar\", y=\"quality\", data=df, ax=axis[3],s=200)\n",
    "sns.scatterplot(x=\"chlorides\", y=\"quality\", data=df, ax=axis[4],s=200)\n",
    "sns.scatterplot(x=\"free sulfur dioxide\", y=\"quality\", data=df, ax=axis[5],s=200)\n",
    "sns.scatterplot(x=\"total sulfur dioxide\", y=\"quality\", data=df, ax=axis[6],s=200)\n",
    "sns.scatterplot(x=\"density\", y=\"quality\", data=df, ax=axis[7],s=200)\n",
    "sns.scatterplot(x=\"pH\", y=\"quality\", data=df, ax=axis[8],s=200)\n",
    "sns.scatterplot(x=\"sulphates\", y=\"quality\", data=df, ax=axis[9],s=200)\n",
    "sns.scatterplot(x=\"alcohol\", y=\"quality\", data=df, ax=axis[10],s=200)\n",
    "plt.rcParams.update({'font.size':100})"
   ]
  },
  {
   "cell_type": "markdown",
   "id": "667765cc",
   "metadata": {},
   "source": [
    "## Preparing the data"
   ]
  },
  {
   "cell_type": "code",
   "execution_count": null,
   "id": "68a1e560",
   "metadata": {},
   "outputs": [],
   "source": [
    "y = df[\"quality\"]\n",
    "X = df.drop('quality',axis=1)\n",
    "print(y.head())\n",
    "print(X.head())"
   ]
  },
  {
   "cell_type": "code",
   "execution_count": null,
   "id": "fc765f5b",
   "metadata": {},
   "outputs": [],
   "source": [
    "from sklearn.model_selection import train_test_split\n",
    "X_train, X_test, y_train, y_test = train_test_split(X, y, test_size=0.3)"
   ]
  },
  {
   "cell_type": "markdown",
   "id": "06066a8f",
   "metadata": {},
   "source": [
    "## Testing the models"
   ]
  },
  {
   "cell_type": "code",
   "execution_count": null,
   "id": "c7ef555b",
   "metadata": {},
   "outputs": [],
   "source": [
    "from sklearn.linear_model import LinearRegression\n",
    "from sklearn.metrics import mean_squared_error\n",
    "from math import sqrt\n",
    "lr = LinearRegression()\n",
    "lr.fit(X_train,y_train)\n",
    "lrPred = lr.predict(X_test)\n",
    "print(sqrt(mean_squared_error(y_test,lrPred)))"
   ]
  },
  {
   "cell_type": "code",
   "execution_count": null,
   "id": "39ed5934",
   "metadata": {},
   "outputs": [],
   "source": [
    "from sklearn.ensemble import RandomForestRegressor\n",
    "rf = RandomForestRegressor()\n",
    "rf.fit(X_train,y_train)\n",
    "rfPred = rf.predict(X_test)\n",
    "print(sqrt(mean_squared_error(y_test,rfPred)))"
   ]
  }
 ],
 "metadata": {
  "kernelspec": {
   "display_name": "Python 3",
   "language": "python",
   "name": "python3"
  },
  "language_info": {
   "codemirror_mode": {
    "name": "ipython",
    "version": 3
   },
   "file_extension": ".py",
   "mimetype": "text/x-python",
   "name": "python",
   "nbconvert_exporter": "python",
   "pygments_lexer": "ipython3",
   "version": "3.7.9"
  }
 },
 "nbformat": 4,
 "nbformat_minor": 5
}
