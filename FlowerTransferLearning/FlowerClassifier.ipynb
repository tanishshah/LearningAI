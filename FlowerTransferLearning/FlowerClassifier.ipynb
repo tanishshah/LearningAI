{
 "cells": [
  {
   "cell_type": "code",
   "execution_count": null,
   "id": "5377802d",
   "metadata": {},
   "outputs": [],
   "source": [
    "#imports\n",
    "import torch\n",
    "import torchvision\n",
    "from torchvision import datasets, models, transforms\n",
    "from path import *\n",
    "device = torch.device(\"cuda\" if torch.cuda.is_available() else \"cpu\")"
   ]
  },
  {
   "cell_type": "code",
   "execution_count": null,
   "id": "b87d3abe",
   "metadata": {},
   "outputs": [],
   "source": [
    "dataTransforms = {\n",
    "    #use different transforms on the images to make it harder\n",
    "    'train':transforms.Compose([\n",
    "        transforms.RandomRotation(90),\n",
    "        transforms.RandomAffine(0, shear=10, scale=(0.8,1.2)),\n",
    "        transforms.RandomResizedCrop(224),\n",
    "        transforms.RandomHorizontalFlip(),\n",
    "        transforms.RandomVerticalFlip(),\n",
    "        transforms.ColorJitter(),\n",
    "        transforms.ToTensor(),\n",
    "        transforms.Normalize([0.485, 0.456, 0.406],[0.229, 0.224, 0.225])\n",
    "    ]),\n",
    "    \n",
    "    #transforms for validation\n",
    "    'val':transforms.Compose([\n",
    "        transforms.Resize(255),\n",
    "        transforms.CenterCrop(224),\n",
    "        transforms.ToTensor(),\n",
    "        transforms.Normalize([0.485, 0.456, 0.406],[0.229, 0.224, 0.225])\n",
    "    ]),\n",
    "}\n",
    "\n",
    "#setup for the training data\n",
    "trainset = datasets.ImageFolder(root=path+\"train\\\\\",transform=dataTransforms[\"train\"])\n",
    "trainloader = torch.utils.data.DataLoader(trainset,batch_size=8,shuffle=True) \n",
    "\n",
    "#setup for the test data\n",
    "testset = datasets.ImageFolder(root=path+\"val\\\\\",transform=dataTransforms[\"val\"])\n",
    "testloader = torch.utils.data.DataLoader(testset,batch_size=4,shuffle=True) \n",
    " \n",
    "\n",
    "\n",
    "\n"
   ]
  },
  {
   "cell_type": "code",
   "execution_count": null,
   "id": "71a4e104",
   "metadata": {},
   "outputs": [],
   "source": [
    "import matplotlib.pyplot as plt\n",
    "import numpy as np\n",
    "\n",
    "images, iclasses = next(iter(trainloader))\n",
    "\n",
    "#view some sample images\n",
    "def imshow(im):\n",
    "    img = im.numpy().transpose((1, 2, 0))\n",
    "    mean = np.array([0.485, 0.456, 0.406])\n",
    "    std = np.array([0.229, 0.224, 0.225])\n",
    "    img = std * img + mean\n",
    "    img = np.clip(img, 0, 1)\n",
    "    plt.imshow(img) \n",
    "    \n",
    "imshow(torchvision.utils.make_grid(images))"
   ]
  },
  {
   "cell_type": "code",
   "execution_count": null,
   "id": "70156cdc",
   "metadata": {},
   "outputs": [],
   "source": [
    "import torch.nn as nn\n",
    "import torch.nn.functional as F\n",
    "\n",
    "#define the network\n",
    "class Network(nn.Module):\n",
    "    def __init__(self):\n",
    "        super().__init__()\n",
    "        self.fc1 = nn.Linear(2048,512)\n",
    "        self.fc2 = nn.Linear(512,128)\n",
    "        self.fc3 = nn.Linear(128,32)\n",
    "        self.fc4 = nn.Linear(32,3)\n",
    "        self.dropout = nn.Dropout(p=0.15)\n",
    "        \n",
    "    def forward(self,x):\n",
    "        x = x.view(x.shape[0],-1)\n",
    "        x = self.dropout(F.relu(self.fc1(x)))\n",
    "        x = self.dropout(F.relu(self.fc2(x)))\n",
    "        x = self.dropout(F.relu(self.fc3(x)))\n",
    "        x = F.log_softmax(self.fc4(x),dim=1)\n",
    "        return x\n",
    "\n",
    "net = Network()"
   ]
  },
  {
   "cell_type": "code",
   "execution_count": null,
   "id": "348cfb8b",
   "metadata": {},
   "outputs": [],
   "source": [
    "model = models.resnet50(pretrained=True)#pretrained model\n",
    "for parameter in model.parameters():\n",
    "    parameter.requires_grad = False\n",
    "model.fc = net #connect network to model\n",
    "model.to(device)#move to device\n",
    "model"
   ]
  },
  {
   "cell_type": "code",
   "execution_count": null,
   "id": "786c1a77",
   "metadata": {},
   "outputs": [],
   "source": [
    "import torch.optim as optim\n",
    "criterion = nn.NLLLoss() #negative log likelihood loss\n",
    "optimizer = optim.Adam(model.fc.parameters(),lr=0.001)#similar to SGD but with momentum"
   ]
  },
  {
   "cell_type": "code",
   "execution_count": null,
   "id": "9b7ca8b1",
   "metadata": {},
   "outputs": [],
   "source": [
    "epochs = 5\n",
    "for epoch in range(epochs):\n",
    "    #train\n",
    "    model.train()\n",
    "    tLoss = 0\n",
    "    for images, labels in trainloader:\n",
    "        images,labels = images.to(device),labels.to(device)\n",
    "        optimizer.zero_grad()\n",
    "        with torch.set_grad_enabled(True):\n",
    "            output = model(images)\n",
    "            loss = criterion(output,labels)\n",
    "            loss.backward()\n",
    "            optimizer.step()\n",
    "            tLoss += loss.item()*images.size(0)\n",
    "    #test\n",
    "    model.eval() \n",
    "    acc = 0\n",
    "    eLoss = 0\n",
    "    for images, labels in testloader:\n",
    "        #setup for getting the classificatoin\n",
    "        images,labels = images.to(device),labels.to(device)\n",
    "        optimizer.zero_grad()\n",
    "        with torch.no_grad():\n",
    "            output = model(images)\n",
    "            loss = criterion(output,labels)\n",
    "            eLoss += loss.item()*images.size(0)\n",
    "            #check the accuracy by seeing if its the right classification\n",
    "            val = torch.exp(output) \n",
    "            pVal, pClass = val.topk(1,dim=1)\n",
    "            isEqual = pClass ==labels.view(*pClass.shape)\n",
    "            acc += torch.mean(isEqual.type(torch.FloatTensor)).item()\n",
    "     \n",
    "    acc/=len(testloader)\n",
    "    eLoss/= len(testloader)\n",
    "    tLoss/= len(trainloader)\n",
    "    print('Epoch: {} Train Loss: {:.2f} Accuracy: {:.2f} Test Loss: {:.2f}'.format(epoch, tLoss, acc, eLoss))\n",
    "    \n",
    "    "
   ]
  },
  {
   "cell_type": "code",
   "execution_count": null,
   "id": "64a1996c",
   "metadata": {},
   "outputs": [],
   "source": []
  },
  {
   "cell_type": "code",
   "execution_count": null,
   "id": "b9ee2d24",
   "metadata": {},
   "outputs": [],
   "source": []
  }
 ],
 "metadata": {
  "kernelspec": {
   "display_name": "Python 3",
   "language": "python",
   "name": "python3"
  },
  "language_info": {
   "codemirror_mode": {
    "name": "ipython",
    "version": 3
   },
   "file_extension": ".py",
   "mimetype": "text/x-python",
   "name": "python",
   "nbconvert_exporter": "python",
   "pygments_lexer": "ipython3",
   "version": "3.7.9"
  }
 },
 "nbformat": 4,
 "nbformat_minor": 5
}
