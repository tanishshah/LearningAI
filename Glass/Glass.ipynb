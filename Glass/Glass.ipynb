{
 "cells": [
  {
   "cell_type": "markdown",
   "id": "52ac9c99",
   "metadata": {},
   "source": [
    "# Glass Classification"
   ]
  },
  {
   "cell_type": "markdown",
   "id": "deedfe41",
   "metadata": {},
   "source": [
    "## Import libraries and the data"
   ]
  },
  {
   "cell_type": "code",
   "execution_count": null,
   "id": "685f1374",
   "metadata": {},
   "outputs": [],
   "source": [
    "import pandas as pd\n",
    "import numpy as np\n",
    "import matplotlib.pyplot as plt\n",
    "%matplotlib inline\n",
    "import seaborn as sns"
   ]
  },
  {
   "cell_type": "code",
   "execution_count": null,
   "id": "b7e5da44",
   "metadata": {
    "scrolled": true
   },
   "outputs": [],
   "source": [
    "df = pd.read_csv(\"glass.csv\")\n",
    "df.columns = ['ID','RI','Na','Mg','Al','Si','K','Ca','Ba','Fe','Type']\n",
    "df.drop('ID',inplace=True,axis=1)\n",
    "print(str(df.head()) + '\\n')\n",
    "print(str(df.describe())+ '\\n')\n",
    "print(df.info())"
   ]
  },
  {
   "cell_type": "markdown",
   "id": "8a867163",
   "metadata": {},
   "source": [
    "## Visualize the data "
   ]
  },
  {
   "cell_type": "code",
   "execution_count": null,
   "id": "ba7fae53",
   "metadata": {},
   "outputs": [],
   "source": [
    "plt.figure(figsize=(10,10))\n",
    "heatmap = sns.heatmap(df.corr(), cmap=\"YlGnBu\",vmin = -1, vmax=1,annot=True)\n",
    "heatmap.set_title(\"Glass Correlation Heatmap\", fontsize=10)"
   ]
  },
  {
   "cell_type": "code",
   "execution_count": null,
   "id": "6baa5cbc",
   "metadata": {},
   "outputs": [],
   "source": [
    "figure, axis = plt.subplots(5,2,figsize=(10,20))\n",
    "figure.tight_layout(pad=10,w_pad=10,h_pad=10)\n",
    "sns.histplot(x = df['RI'],ax=axis[0][0])\n",
    "sns.histplot(x = df['Na'],ax=axis[0][1])\n",
    "sns.histplot(x = df['Mg'],ax=axis[1][0])\n",
    "sns.histplot(x = df['Al'],ax=axis[1][1])\n",
    "sns.histplot(x = df['Si'],ax=axis[2][0])\n",
    "sns.histplot(x = df['K'],ax=axis[2][1])\n",
    "sns.histplot(x = df['Ca'],ax=axis[3][0])\n",
    "sns.histplot(x = df['Ba'],ax=axis[3][1])\n",
    "sns.histplot(x = df['Fe'],ax=axis[4][0])\n",
    "sns.histplot(x = df['Type'],ax=axis[4][1])"
   ]
  },
  {
   "cell_type": "code",
   "execution_count": null,
   "id": "cf915778",
   "metadata": {},
   "outputs": [],
   "source": [
    "figure, axis = plt.subplots(3,3,figsize=(15,15))\n",
    "figure.tight_layout(pad=10,w_pad=10,h_pad=10)\n",
    "sns.scatterplot(x = 'RI',y = 'Type', data=df, ax=axis[0][0])\n",
    "sns.scatterplot(x = 'Na',y = 'Type', data=df, ax=axis[0][1])\n",
    "sns.scatterplot(x = 'Mg',y = 'Type', data=df, ax=axis[0][2])\n",
    "sns.scatterplot(x = 'Al',y = 'Type', data=df, ax=axis[1][0])\n",
    "sns.scatterplot(x = 'Si',y = 'Type', data=df, ax=axis[1][1])\n",
    "sns.scatterplot(x = 'K',y = 'Type', data=df, ax=axis[1][2])\n",
    "sns.scatterplot(x = 'Ca',y = 'Type', data=df, ax=axis[2][0])\n",
    "sns.scatterplot(x = 'Ba',y = 'Type', data=df, ax=axis[2][1])\n",
    "sns.scatterplot(x = 'Fe',y = 'Type', data=df, ax=axis[2][2])"
   ]
  },
  {
   "cell_type": "markdown",
   "id": "36c0f8cf",
   "metadata": {},
   "source": [
    "## Prepare the data"
   ]
  },
  {
   "cell_type": "code",
   "execution_count": null,
   "id": "da844af7",
   "metadata": {
    "scrolled": true
   },
   "outputs": [],
   "source": [
    "y = df[\"Type\"]\n",
    "X = df.drop(\"Type\",axis=1)\n",
    "print(y.head())\n",
    "print(X.head())"
   ]
  },
  {
   "cell_type": "code",
   "execution_count": null,
   "id": "ac0b79d5",
   "metadata": {},
   "outputs": [],
   "source": [
    "from sklearn.preprocessing import MinMaxScaler\n",
    "X = MinMaxScaler().fit_transform(X)\n",
    "print(X)"
   ]
  },
  {
   "cell_type": "markdown",
   "id": "ee716d3a",
   "metadata": {},
   "source": [
    "## Initial Testing "
   ]
  },
  {
   "cell_type": "code",
   "execution_count": null,
   "id": "6e85a619",
   "metadata": {},
   "outputs": [],
   "source": [
    "from sklearn.model_selection import train_test_split\n",
    "from sklearn.neighbors import KNeighborsClassifier\n",
    "from sklearn.ensemble import RandomForestClassifier\n",
    "from sklearn.svm import SVC\n",
    "from sklearn.metrics import confusion_matrix\n",
    "from sklearn.metrics import accuracy_score\n",
    "\n",
    "X_train, X_test, y_train, y_test = train_test_split(X, y, test_size=0.3,random_state=42)\n",
    "for model in [KNeighborsClassifier(),RandomForestClassifier(),SVC()]:\n",
    "    model.fit(X_train,y_train)\n",
    "    pred = model.predict(X_test)\n",
    "    acc = accuracy_score(y_test,pred)\n",
    "    print(str(model))\n",
    "    print(\"Accuracy: {}\".format(acc))\n",
    "    print(\"Confustion Matrix:  \\n {} \\n\".format(confusion_matrix(y_test, pred)))"
   ]
  },
  {
   "cell_type": "markdown",
   "id": "201f61b5",
   "metadata": {},
   "source": [
    "## Hyperparameter Tuning "
   ]
  },
  {
   "cell_type": "code",
   "execution_count": null,
   "id": "a61c6f54",
   "metadata": {},
   "outputs": [],
   "source": [
    "from sklearn.model_selection import GridSearchCV\n",
    "hyperParams = {\n",
    "    'svm':{\n",
    "        'C':[1,10,100],\n",
    "        'kernel': ['rbf','linear','poly'],\n",
    "        'degree':[2,3,4],\n",
    "        'gamma':['scale','auto']\n",
    "    },\n",
    "    'randomForest':{ \n",
    "        'n_estimators':[10,100,200,400,800],\n",
    "        'min_samples_split':[2,4,8],\n",
    "        'min_samples_leaf':[1,2,4],\n",
    "        'max_features':['auto','sqrt','log2']\n",
    "        \n",
    "    },\n",
    "    'knn':{\n",
    "        'n_neighbors':[3,5,7,10],\n",
    "        'weights':['uniform','distance'],\n",
    "        'algorithm':['ball_tree','kd_tree','brute','auto'],\n",
    "        'leaf_size':[20,30,40]\n",
    "    }\n",
    "}"
   ]
  },
  {
   "cell_type": "code",
   "execution_count": null,
   "id": "a14e6ac2",
   "metadata": {},
   "outputs": [],
   "source": [
    "gridSVM = GridSearchCV(SVC(),hyperParams['svm'],cv=5,verbose=-1,n_jobs=-1)\n",
    "gridSVM.fit(X,y)\n",
    "gridSVMResults = pd.DataFrame(gridSVM.cv_results_)\n",
    "print(gridSVMResults.head())\n",
    "print(gridSVM.best_params_)\n",
    "bestSVM = gridSVM.best_estimator_"
   ]
  },
  {
   "cell_type": "code",
   "execution_count": null,
   "id": "021e5925",
   "metadata": {},
   "outputs": [],
   "source": [
    "gridRF = GridSearchCV(RandomForestClassifier(),hyperParams['randomForest'],cv=5,verbose=-1,n_jobs=-1)\n",
    "gridRF.fit(X,y)\n",
    "gridRFResults = pd.DataFrame(gridRF.cv_results_)\n",
    "print(gridRFResults.head())\n",
    "print(gridRF.best_params_)\n",
    "bestRF = gridRF.best_estimator_"
   ]
  },
  {
   "cell_type": "code",
   "execution_count": null,
   "id": "3c408d51",
   "metadata": {},
   "outputs": [],
   "source": [
    "gridKNN = GridSearchCV(KNeighborsClassifier(),hyperParams['knn'],cv=5,verbose=-1,n_jobs=-1)\n",
    "gridKNN.fit(X,y)\n",
    "gridKNNResults = pd.DataFrame(gridKNN.cv_results_)\n",
    "print(gridKNNResults.head())\n",
    "print(gridKNN.best_params_)\n",
    "bestKNN = gridKNN.best_estimator_"
   ]
  },
  {
   "cell_type": "markdown",
   "id": "845d4bdf",
   "metadata": {},
   "source": [
    "## Testing out the best models"
   ]
  },
  {
   "cell_type": "code",
   "execution_count": null,
   "id": "448eb462",
   "metadata": {},
   "outputs": [],
   "source": [
    "for model in [bestKNN,bestRF,bestSVM]:\n",
    "    model.fit(X_train,y_train)\n",
    "    pred = model.predict(X_test)\n",
    "    acc = accuracy_score(y_test,pred)\n",
    "    print(str(model))\n",
    "    print(\"Accuracy: {}\".format(acc))\n",
    "    print(\"Confustion Matrix:  \\n {} \\n\".format(confusion_matrix(y_test, pred)))"
   ]
  }
 ],
 "metadata": {
  "kernelspec": {
   "display_name": "Python 3",
   "language": "python",
   "name": "python3"
  },
  "language_info": {
   "codemirror_mode": {
    "name": "ipython",
    "version": 3
   },
   "file_extension": ".py",
   "mimetype": "text/x-python",
   "name": "python",
   "nbconvert_exporter": "python",
   "pygments_lexer": "ipython3",
   "version": "3.7.9"
  }
 },
 "nbformat": 4,
 "nbformat_minor": 5
}
