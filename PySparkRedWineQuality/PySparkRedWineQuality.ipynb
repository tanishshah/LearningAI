{
 "cells": [
  {
   "cell_type": "markdown",
   "metadata": {
    "id": "QnVxKNXPTEck"
   },
   "source": [
    "# Trying out PySpark"
   ]
  },
  {
   "cell_type": "markdown",
   "metadata": {
    "id": "hQjOoW8iVkWp"
   },
   "source": [
    "Useful reference: Databricks binary classifcation documentation\n",
    "\n",
    "---\n",
    "\n",
    " https://docs.databricks.com/_static/notebooks/binary-classification.html"
   ]
  },
  {
   "cell_type": "markdown",
   "metadata": {
    "id": "LyhSJZuIToje"
   },
   "source": [
    "## Setup"
   ]
  },
  {
   "cell_type": "markdown",
   "metadata": {
    "id": "GPO9TfeGUdL9"
   },
   "source": [
    "Downloading Packages"
   ]
  },
  {
   "cell_type": "code",
   "execution_count": null,
   "metadata": {
    "colab": {
     "base_uri": "https://localhost:8080/"
    },
    "id": "kJGm2_hKTsVy",
    "outputId": "6f10dbfe-3ede-49a6-c0ef-bf18c4ab45b6"
   },
   "outputs": [],
   "source": [
    "'''\n",
    "!apt-get update\n",
    "!apt-get install openjdk-8-jdk-headless -qq > /dev/null\n",
    "!wget https://downloads.apache.org/spark/spark-3.1.2/spark-3.1.2-bin-hadoop3.2.tgz\n",
    "!tar xf spark-3.1.2-bin-hadoop3.2.tgz\n",
    "!pip install pyspark\n",
    "!pip install findspark\n",
    "'''"
   ]
  },
  {
   "cell_type": "markdown",
   "metadata": {
    "id": "qu0Ai0wsU5QG"
   },
   "source": [
    "Set up environment "
   ]
  },
  {
   "cell_type": "code",
   "execution_count": null,
   "metadata": {
    "id": "P03gC9LWU3wi"
   },
   "outputs": [],
   "source": [
    "'''\n",
    "import os\n",
    "os.environ[\"JAVA_HOME\"] = \"/usr/lib/jvm/java-8-openjdk-amd64\"\n",
    "os.environ[\"SPARK_HOME\"] = \"/content/spark-3.1.2-bin-hadoop3.2\"\n",
    "'''"
   ]
  },
  {
   "cell_type": "markdown",
   "metadata": {
    "id": "uOGW5MSIVDv4"
   },
   "source": [
    "Load Spark"
   ]
  },
  {
   "cell_type": "code",
   "execution_count": null,
   "metadata": {
    "colab": {
     "base_uri": "https://localhost:8080/",
     "height": 222
    },
    "id": "WwlIWUVZVIvp",
    "outputId": "fbd6945e-d2bd-42e4-d226-c3cfe02a6dc5"
   },
   "outputs": [],
   "source": [
    "'''\n",
    "import findspark\n",
    "import pyspark\n",
    "from pyspark.sql import SparkSession\n",
    "import pyspark.sql.functions as F\n",
    "from pyspark.sql.types import *\n",
    "findspark.init()\n",
    "spark = SparkSession.builder.getOrCreate()\n",
    "spark\n",
    "'''\n"
   ]
  },
  {
   "cell_type": "markdown",
   "metadata": {
    "id": "Zsp05gacfLlP"
   },
   "source": [
    "Data Source"
   ]
  },
  {
   "cell_type": "markdown",
   "metadata": {
    "id": "zhYgS6oecHps"
   },
   "source": [
    "  P. Cortez, A. Cerdeira, F. Almeida, T. Matos and J. Reis. \n",
    "  Modeling wine preferences by data mining from physicochemical properties.\n",
    "  In Decision Support Systems, Elsevier, 47(4):547-553. ISSN: 0167-9236.\n",
    "\n",
    "  Available at: [@Elsevier] http://dx.doi.org/10.1016/j.dss.2009.05.016\n",
    "                [Pre-press (pdf)] http://www3.dsi.uminho.pt/pcortez/winequality09.pdf\n",
    "                [bib] http://www3.dsi.uminho.pt/pcortez/dss09.bib"
   ]
  },
  {
   "cell_type": "markdown",
   "metadata": {
    "id": "jovlHUXIcgMU"
   },
   "source": [
    "Download the data"
   ]
  },
  {
   "cell_type": "code",
   "execution_count": null,
   "metadata": {
    "colab": {
     "base_uri": "https://localhost:8080/"
    },
    "id": "Yq_CsUxecAmm",
    "outputId": "3b6a0626-730c-44dc-c5b4-1e9dcaea760f"
   },
   "outputs": [],
   "source": [
    "'''\n",
    "!wget https://archive.ics.uci.edu/ml/machine-learning-databases/wine-quality/winequality-red.csv\n",
    "!wget https://archive.ics.uci.edu/ml/machine-learning-databases/wine-quality/winequality-white.csv\n",
    "!ls\n",
    "'''"
   ]
  },
  {
   "cell_type": "markdown",
   "metadata": {
    "id": "9-rdfEMRjl9n"
   },
   "source": [
    "## Working with the data"
   ]
  },
  {
   "cell_type": "markdown",
   "metadata": {
    "id": "H06Dv0XYqi3D"
   },
   "source": [
    "Load data"
   ]
  },
  {
   "cell_type": "code",
   "execution_count": null,
   "metadata": {
    "colab": {
     "base_uri": "https://localhost:8080/"
    },
    "id": "FHh3GOtfdZyk",
    "outputId": "68a37c64-9da0-4a61-9f7b-390c9064309e"
   },
   "outputs": [],
   "source": [
    "red = spark.read.csv(\"winequality-red.csv\",header=True,sep=';', inferSchema = True)\n",
    "red.show(5)\n",
    "red.printSchema()"
   ]
  },
  {
   "cell_type": "markdown",
   "metadata": {
    "id": "mFwCl5iOqnoi"
   },
   "source": [
    "Modify the quality column "
   ]
  },
  {
   "cell_type": "code",
   "execution_count": null,
   "metadata": {
    "colab": {
     "base_uri": "https://localhost:8080/"
    },
    "id": "_n0MXTfsced2",
    "outputId": "9db775be-2004-44e4-c613-b9732648c52c"
   },
   "outputs": [],
   "source": [
    "def modify(x):\n",
    "    if x < 7:\n",
    "        return 0\n",
    "    return 1\n",
    "\n",
    "udfModify = F.udf(modify, IntegerType())\n",
    "red = red.withColumn(\"class\",udfModify(\"quality\"))\n",
    "red = red.drop(\"quality\")\n",
    "red.show()"
   ]
  },
  {
   "cell_type": "markdown",
   "metadata": {
    "id": "tCKEtJlZg89G"
   },
   "source": [
    "Assemble the columns"
   ]
  },
  {
   "cell_type": "code",
   "execution_count": null,
   "metadata": {
    "id": "Fw66R5tTpXVn"
   },
   "outputs": [],
   "source": [
    "from pyspark.ml.feature import VectorAssembler, StringIndexer\n",
    "stages = []\n",
    "class_string = StringIndexer(inputCol=\"class\",outputCol=\"label\")\n",
    "stages += [class_string]\n",
    "assembler = VectorAssembler().setInputCols([\"fixed acidity\",\"volatile acidity\",\"citric acid\",\"residual sugar\",\"chlorides\",\"free sulfur dioxide\",\"total sulfur dioxide\",\"density\",\"pH\",\"sulphates\",\"alcohol\"]).setOutputCol(\"features\")\n",
    "stages += [assembler]"
   ]
  },
  {
   "cell_type": "markdown",
   "metadata": {
    "id": "J2z3b2CjhYBu"
   },
   "source": [
    "Setup the pipeline"
   ]
  },
  {
   "cell_type": "code",
   "execution_count": null,
   "metadata": {
    "id": "4L5jcEeo0tOU"
   },
   "outputs": [],
   "source": [
    "from pyspark.ml import Pipeline\n",
    "from pyspark.ml.classification import LogisticRegression\n",
    "pipe = Pipeline().setStages(stages)\n",
    "pipeModel = pipe.fit(red)\n",
    "input = pipeModel.transform(red)\n",
    "lrModel = LogisticRegression().fit(input)"
   ]
  },
  {
   "cell_type": "markdown",
   "metadata": {
    "id": "9NIV7akPip5G"
   },
   "source": [
    "Split the data"
   ]
  },
  {
   "cell_type": "code",
   "execution_count": null,
   "metadata": {
    "colab": {
     "base_uri": "https://localhost:8080/"
    },
    "id": "rJkAE9aNU-Q0",
    "outputId": "17bae589-b169-4383-8c24-f34290a6a8ae"
   },
   "outputs": [],
   "source": [
    "(train, test) = input.randomSplit([0.7, 0.3])\n",
    "print(train.count())\n",
    "print(train.show())\n",
    "print(test.count())\n",
    "print(test.show())"
   ]
  },
  {
   "cell_type": "markdown",
   "metadata": {
    "id": "gGWU1fyFnHPG"
   },
   "source": [
    "Fit the model"
   ]
  },
  {
   "cell_type": "code",
   "execution_count": null,
   "metadata": {
    "colab": {
     "base_uri": "https://localhost:8080/"
    },
    "id": "rOLZ5FXzVA-y",
    "outputId": "17b4f3c1-aa1b-46fd-9e07-7a853c620564"
   },
   "outputs": [],
   "source": [
    "from pyspark.ml.classification import LogisticRegression\n",
    "lr = LogisticRegression(labelCol=\"label\", featuresCol=\"features\", maxIter=5)\n",
    "lrModel = lr.fit(train)\n",
    "predictions = lrModel.transform(test)\n",
    "results = predictions.select(\"label\", \"prediction\", \"probability\")\n",
    "results.show()"
   ]
  },
  {
   "cell_type": "markdown",
   "metadata": {
    "id": "EJGwyYTffGbh"
   },
   "source": [
    "Evaluate the model"
   ]
  },
  {
   "cell_type": "code",
   "execution_count": null,
   "metadata": {
    "colab": {
     "base_uri": "https://localhost:8080/"
    },
    "id": "esFqjS2aVTJC",
    "outputId": "4f02e05f-1f34-483b-c689-00c8cdef3934"
   },
   "outputs": [],
   "source": [
    "from pyspark.ml.evaluation import BinaryClassificationEvaluator\n",
    "evaluator = BinaryClassificationEvaluator()\n",
    "evaluator.evaluate(predictions)\n"
   ]
  }
 ],
 "metadata": {
  "colab": {
   "collapsed_sections": [],
   "name": "Pyspark",
   "provenance": []
  },
  "kernelspec": {
   "display_name": "Python 3",
   "language": "python",
   "name": "python3"
  },
  "language_info": {
   "codemirror_mode": {
    "name": "ipython",
    "version": 3
   },
   "file_extension": ".py",
   "mimetype": "text/x-python",
   "name": "python",
   "nbconvert_exporter": "python",
   "pygments_lexer": "ipython3",
   "version": "3.7.9"
  }
 },
 "nbformat": 4,
 "nbformat_minor": 1
}
